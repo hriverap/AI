{
 "cells": [
  {
   "cell_type": "markdown",
   "metadata": {},
   "source": [
    "# Magister en Ciencia de Datos - UDD\n",
    "## IAA (Inteligencia Artificial Aplicada)\n",
    "### Desafio 1:  \n",
    "Desarrollo de modelo de Recomendaciones para agente virtual <a href=\"https://cloud.ibm.com/docs/services/assistant?topic=assistant-getting-started#getting-started\">Watson Assistan</a>. El modelo utilizará el paper: <a href=\"http://yifanhu.net/PUB/cf.pdf\">Collaborative Filtering for Implicit Feedback Datasets</a>, de Yifan Hu, Yehuda Koren y Chris Volinsky. \n",
    "Para el desarrollo ocuparemos la API <a href=\"https://github.com/benfred/implicit\">Implicit</a>, desarrollada por <a href=\"https://implicit.readthedocs.io/en/latest/\">Ben Frederickson</a>(© Copyright 2017).\n",
    "\n",
    "### Dataset:\n",
    "Se utilizará un dataset de peliculas, series y programas en vivo para generar el modelos de recomendación. El alcance del modelo incluirá solamente un modelo para recomendar peliculas, pero se puede extender facilmente a Series y programas en vivo creando un identificador de contenido unico.\n",
    "\n",
    "### Resultado:\n",
    "Se crearan 3 bases de datos que contendran la siguiente informacion:\n",
    "* Base con los codigos y los nombres de peliculas (db_item_lookup.csv)\n",
    "* Base de recomendaciones de peliculas por usuario (db_user_score.csv)\n",
    "* Base de recomendaciones de peliculas por item (db_item_score.csv)\n",
    "\n",
    "By Hernan Rivera & Jose Pedro Berenguer"
   ]
  },
  {
   "cell_type": "markdown",
   "metadata": {},
   "source": [
    "## Let's start :)"
   ]
  },
  {
   "cell_type": "markdown",
   "metadata": {},
   "source": [
    "#### 1. Cargamos librerias para el desarrollo del modelo"
   ]
  },
  {
   "cell_type": "code",
   "execution_count": 1,
   "metadata": {},
   "outputs": [],
   "source": [
    "import sys\n",
    "import pandas as pd\n",
    "import numpy as np\n",
    "import scipy.sparse as sparse\n",
    "\n",
    "from sklearn.preprocessing import MinMaxScaler\n",
    "\n",
    "import implicit "
   ]
  },
  {
   "cell_type": "markdown",
   "metadata": {},
   "source": [
    "#### 2. Cargamos dataset \"visual_meses\" para el desafio."
   ]
  },
  {
   "cell_type": "code",
   "execution_count": 2,
   "metadata": {},
   "outputs": [],
   "source": [
    "raw_data = pd.read_csv('./data/visual_meses.csv', sep=\";\")"
   ]
  },
  {
   "cell_type": "code",
   "execution_count": 3,
   "metadata": {},
   "outputs": [
    {
     "data": {
      "text/html": [
       "<div>\n",
       "<style scoped>\n",
       "    .dataframe tbody tr th:only-of-type {\n",
       "        vertical-align: middle;\n",
       "    }\n",
       "\n",
       "    .dataframe tbody tr th {\n",
       "        vertical-align: top;\n",
       "    }\n",
       "\n",
       "    .dataframe thead th {\n",
       "        text-align: right;\n",
       "    }\n",
       "</style>\n",
       "<table border=\"1\" class=\"dataframe\">\n",
       "  <thead>\n",
       "    <tr style=\"text-align: right;\">\n",
       "      <th></th>\n",
       "      <th>ID_GRUPO</th>\n",
       "      <th>PAIS</th>\n",
       "      <th>ID_CLIENTE</th>\n",
       "      <th>TX_NOMBRE</th>\n",
       "      <th>TX_ESTUDIO</th>\n",
       "      <th>COD_FECHA_VISUALIZACION</th>\n",
       "      <th>FECHA_PAIS</th>\n",
       "      <th>TX_DISP_CATEGORIA_ORIGINAL</th>\n",
       "      <th>TX_DISP_MODELO_ORIGINAL</th>\n",
       "      <th>TX_DISP_TIPO_ORIGINAL</th>\n",
       "      <th>...</th>\n",
       "      <th>NUMERO_TEMPORADA</th>\n",
       "      <th>NUMERO_CAPITULO</th>\n",
       "      <th>NOMBRE_CAPITULO</th>\n",
       "      <th>NOMBRE_CAPITULO_ESP</th>\n",
       "      <th>DURACION_TOTAL</th>\n",
       "      <th>ESTUDIO</th>\n",
       "      <th>PROVEEDOR</th>\n",
       "      <th>TYPE</th>\n",
       "      <th>PROGRAM_ID</th>\n",
       "      <th>TX_NOMBRE_SERIE</th>\n",
       "    </tr>\n",
       "  </thead>\n",
       "  <tbody>\n",
       "    <tr>\n",
       "      <th>0</th>\n",
       "      <td>526402</td>\n",
       "      <td>CHILE</td>\n",
       "      <td>85528236.0</td>\n",
       "      <td>National Treasure</td>\n",
       "      <td>Disney</td>\n",
       "      <td>2018-10-01 10:04:34</td>\n",
       "      <td>2018-10-01 10:04:34</td>\n",
       "      <td>tv</td>\n",
       "      <td>lg</td>\n",
       "      <td>TV</td>\n",
       "      <td>...</td>\n",
       "      <td>NaN</td>\n",
       "      <td>NaN</td>\n",
       "      <td>NaN</td>\n",
       "      <td>NaN</td>\n",
       "      <td>02:10:59</td>\n",
       "      <td>Disney</td>\n",
       "      <td>AMCO</td>\n",
       "      <td>Type 2</td>\n",
       "      <td>13594853.0</td>\n",
       "      <td>NaN</td>\n",
       "    </tr>\n",
       "    <tr>\n",
       "      <th>1</th>\n",
       "      <td>526402</td>\n",
       "      <td>CHILE</td>\n",
       "      <td>211677990.0</td>\n",
       "      <td>National Treasure</td>\n",
       "      <td>Disney</td>\n",
       "      <td>2019-01-04 05:55:14</td>\n",
       "      <td>2019-01-04 05:55:14</td>\n",
       "      <td>web</td>\n",
       "      <td>html5</td>\n",
       "      <td>html5</td>\n",
       "      <td>...</td>\n",
       "      <td>NaN</td>\n",
       "      <td>NaN</td>\n",
       "      <td>NaN</td>\n",
       "      <td>NaN</td>\n",
       "      <td>02:10:59</td>\n",
       "      <td>Disney</td>\n",
       "      <td>AMCO</td>\n",
       "      <td>Type 2</td>\n",
       "      <td>13594853.0</td>\n",
       "      <td>NaN</td>\n",
       "    </tr>\n",
       "    <tr>\n",
       "      <th>2</th>\n",
       "      <td>526402</td>\n",
       "      <td>CHILE</td>\n",
       "      <td>186668874.0</td>\n",
       "      <td>National Treasure</td>\n",
       "      <td>Disney</td>\n",
       "      <td>2018-12-03 19:08:05</td>\n",
       "      <td>2018-12-03 19:08:05</td>\n",
       "      <td>tablet</td>\n",
       "      <td>android</td>\n",
       "      <td>SM-P350</td>\n",
       "      <td>...</td>\n",
       "      <td>NaN</td>\n",
       "      <td>NaN</td>\n",
       "      <td>NaN</td>\n",
       "      <td>NaN</td>\n",
       "      <td>02:10:59</td>\n",
       "      <td>Disney</td>\n",
       "      <td>AMCO</td>\n",
       "      <td>Type 2</td>\n",
       "      <td>13594853.0</td>\n",
       "      <td>NaN</td>\n",
       "    </tr>\n",
       "    <tr>\n",
       "      <th>3</th>\n",
       "      <td>526402</td>\n",
       "      <td>CHILE</td>\n",
       "      <td>30095082.0</td>\n",
       "      <td>National Treasure</td>\n",
       "      <td>Disney</td>\n",
       "      <td>2019-02-06 16:42:47</td>\n",
       "      <td>2019-02-06 16:42:47</td>\n",
       "      <td>mobile</td>\n",
       "      <td>android</td>\n",
       "      <td>XT1097</td>\n",
       "      <td>...</td>\n",
       "      <td>NaN</td>\n",
       "      <td>NaN</td>\n",
       "      <td>NaN</td>\n",
       "      <td>NaN</td>\n",
       "      <td>02:10:59</td>\n",
       "      <td>Disney</td>\n",
       "      <td>AMCO</td>\n",
       "      <td>Type 2</td>\n",
       "      <td>13594853.0</td>\n",
       "      <td>NaN</td>\n",
       "    </tr>\n",
       "    <tr>\n",
       "      <th>4</th>\n",
       "      <td>526402</td>\n",
       "      <td>CHILE</td>\n",
       "      <td>204313488.0</td>\n",
       "      <td>National Treasure</td>\n",
       "      <td>Disney</td>\n",
       "      <td>2018-10-06 17:43:37</td>\n",
       "      <td>2018-10-06 17:43:37</td>\n",
       "      <td>mobile</td>\n",
       "      <td>android</td>\n",
       "      <td>moto g(6) play</td>\n",
       "      <td>...</td>\n",
       "      <td>NaN</td>\n",
       "      <td>NaN</td>\n",
       "      <td>NaN</td>\n",
       "      <td>NaN</td>\n",
       "      <td>02:10:59</td>\n",
       "      <td>Disney</td>\n",
       "      <td>AMCO</td>\n",
       "      <td>Type 2</td>\n",
       "      <td>13594853.0</td>\n",
       "      <td>NaN</td>\n",
       "    </tr>\n",
       "  </tbody>\n",
       "</table>\n",
       "<p>5 rows × 33 columns</p>\n",
       "</div>"
      ],
      "text/plain": [
       "   ID_GRUPO   PAIS   ID_CLIENTE          TX_NOMBRE TX_ESTUDIO  \\\n",
       "0    526402  CHILE   85528236.0  National Treasure     Disney   \n",
       "1    526402  CHILE  211677990.0  National Treasure     Disney   \n",
       "2    526402  CHILE  186668874.0  National Treasure     Disney   \n",
       "3    526402  CHILE   30095082.0  National Treasure     Disney   \n",
       "4    526402  CHILE  204313488.0  National Treasure     Disney   \n",
       "\n",
       "  COD_FECHA_VISUALIZACION           FECHA_PAIS TX_DISP_CATEGORIA_ORIGINAL  \\\n",
       "0     2018-10-01 10:04:34  2018-10-01 10:04:34                         tv   \n",
       "1     2019-01-04 05:55:14  2019-01-04 05:55:14                        web   \n",
       "2     2018-12-03 19:08:05  2018-12-03 19:08:05                     tablet   \n",
       "3     2019-02-06 16:42:47  2019-02-06 16:42:47                     mobile   \n",
       "4     2018-10-06 17:43:37  2018-10-06 17:43:37                     mobile   \n",
       "\n",
       "  TX_DISP_MODELO_ORIGINAL TX_DISP_TIPO_ORIGINAL  ... NUMERO_TEMPORADA  \\\n",
       "0                      lg                    TV  ...              NaN   \n",
       "1                   html5                 html5  ...              NaN   \n",
       "2                 android               SM-P350  ...              NaN   \n",
       "3                 android                XT1097  ...              NaN   \n",
       "4                 android        moto g(6) play  ...              NaN   \n",
       "\n",
       "   NUMERO_CAPITULO NOMBRE_CAPITULO  NOMBRE_CAPITULO_ESP DURACION_TOTAL  \\\n",
       "0              NaN             NaN                  NaN       02:10:59   \n",
       "1              NaN             NaN                  NaN       02:10:59   \n",
       "2              NaN             NaN                  NaN       02:10:59   \n",
       "3              NaN             NaN                  NaN       02:10:59   \n",
       "4              NaN             NaN                  NaN       02:10:59   \n",
       "\n",
       "  ESTUDIO  PROVEEDOR    TYPE  PROGRAM_ID TX_NOMBRE_SERIE  \n",
       "0  Disney       AMCO  Type 2  13594853.0             NaN  \n",
       "1  Disney       AMCO  Type 2  13594853.0             NaN  \n",
       "2  Disney       AMCO  Type 2  13594853.0             NaN  \n",
       "3  Disney       AMCO  Type 2  13594853.0             NaN  \n",
       "4  Disney       AMCO  Type 2  13594853.0             NaN  \n",
       "\n",
       "[5 rows x 33 columns]"
      ]
     },
     "execution_count": 3,
     "metadata": {},
     "output_type": "execute_result"
    }
   ],
   "source": [
    "raw_data.head()"
   ]
  },
  {
   "cell_type": "code",
   "execution_count": 4,
   "metadata": {},
   "outputs": [
    {
     "name": "stdout",
     "output_type": "stream",
     "text": [
      "<class 'pandas.core.frame.DataFrame'>\n",
      "RangeIndex: 187263 entries, 0 to 187262\n",
      "Data columns (total 33 columns):\n",
      "ID_GRUPO                       187263 non-null int64\n",
      "PAIS                           187263 non-null object\n",
      "ID_CLIENTE                     182247 non-null float64\n",
      "TX_NOMBRE                      187263 non-null object\n",
      "TX_ESTUDIO                     187263 non-null object\n",
      "COD_FECHA_VISUALIZACION        187263 non-null object\n",
      "FECHA_PAIS                     187263 non-null object\n",
      "TX_DISP_CATEGORIA_ORIGINAL     179370 non-null object\n",
      "TX_DISP_MODELO_ORIGINAL        179370 non-null object\n",
      "TX_DISP_TIPO_ORIGINAL          179370 non-null object\n",
      "TX_DISP_VERSION_ORIGINAL       31521 non-null object\n",
      "COD_PARTNER_OPERACION          174492 non-null float64\n",
      "TIPO_OPERACION                 174332 non-null object\n",
      "PRECIO                         187263 non-null int64\n",
      "MEDIO_PAGO_NOMBRE              174332 non-null object\n",
      "FECHA_ULT_VIS                  131148 non-null object\n",
      "ULT_VIS                        131148 non-null float64\n",
      "FECHA_MAX_VIS                  131148 non-null object\n",
      "MAX_VIS                        131148 non-null float64\n",
      "TX_DISP_FABRICANTE_ORIGINAL    187263 non-null object\n",
      "TITULO                         187263 non-null object\n",
      "TITULO_ESP                     187263 non-null object\n",
      "CATEGORIA                      187263 non-null object\n",
      "NUMERO_TEMPORADA               122978 non-null float64\n",
      "NUMERO_CAPITULO                123016 non-null float64\n",
      "NOMBRE_CAPITULO                122394 non-null object\n",
      "NOMBRE_CAPITULO_ESP            125057 non-null object\n",
      "DURACION_TOTAL                 181859 non-null object\n",
      "ESTUDIO                        187263 non-null object\n",
      "PROVEEDOR                      187263 non-null object\n",
      "TYPE                           187263 non-null object\n",
      "PROGRAM_ID                     178843 non-null float64\n",
      "TX_NOMBRE_SERIE                123016 non-null object\n",
      "dtypes: float64(7), int64(2), object(24)\n",
      "memory usage: 47.1+ MB\n"
     ]
    }
   ],
   "source": [
    "raw_data.info()"
   ]
  },
  {
   "cell_type": "markdown",
   "metadata": {},
   "source": [
    "* Las variables de interes indentificadas para el modelo son: ID_CLIENTE, TITULO, ID_GRUPO"
   ]
  },
  {
   "cell_type": "code",
   "execution_count": 5,
   "metadata": {},
   "outputs": [],
   "source": [
    "raw_data = raw_data[[\"ID_CLIENTE\", \"ID_GRUPO\", \"TITULO\", \"CATEGORIA\"]]"
   ]
  },
  {
   "cell_type": "code",
   "execution_count": 6,
   "metadata": {},
   "outputs": [
    {
     "data": {
      "text/plain": [
       "Serie            123016\n",
       "Pelicula          58845\n",
       "Canal en Vivo      5402\n",
       "Name: CATEGORIA, dtype: int64"
      ]
     },
     "execution_count": 6,
     "metadata": {},
     "output_type": "execute_result"
    }
   ],
   "source": [
    "raw_data.CATEGORIA.value_counts()"
   ]
  },
  {
   "cell_type": "markdown",
   "metadata": {},
   "source": [
    "#### 3. Analizamos el contendido de Peliculas y Series"
   ]
  },
  {
   "cell_type": "code",
   "execution_count": 7,
   "metadata": {},
   "outputs": [
    {
     "data": {
      "text/plain": [
       "TITULO                          ID_GRUPO\n",
       "10 años                         756331        4\n",
       "10x10                           780952        1\n",
       "12 Strong (aka Horse Soldiers)  771034       19\n",
       "12 Years a Slave                596943       20\n",
       "127 Hours                       575230      135\n",
       "dtype: int64"
      ]
     },
     "execution_count": 7,
     "metadata": {},
     "output_type": "execute_result"
    }
   ],
   "source": [
    "raw_data[raw_data.CATEGORIA==\"Pelicula\"].groupby([\"TITULO\", \"ID_GRUPO\"]).size().head()"
   ]
  },
  {
   "cell_type": "code",
   "execution_count": 8,
   "metadata": {},
   "outputs": [
    {
     "data": {
      "text/plain": [
       "TITULO      ID_GRUPO\n",
       "12 Monkeys  778016       2\n",
       "            778017      30\n",
       "            778035       4\n",
       "            778036       2\n",
       "            778049       4\n",
       "dtype: int64"
      ]
     },
     "execution_count": 8,
     "metadata": {},
     "output_type": "execute_result"
    }
   ],
   "source": [
    "raw_data[raw_data.CATEGORIA==\"Serie\"].groupby([\"TITULO\", \"ID_GRUPO\"]).size().head()"
   ]
  },
  {
   "cell_type": "markdown",
   "metadata": {},
   "source": [
    "* Desde los datos se observa que solo se puede ocupar ID_GRUPO para Peliculas"
   ]
  },
  {
   "cell_type": "markdown",
   "metadata": {},
   "source": [
    "#### 4. Generamos la lista de peliculas para ocuparlas en el sistema de recomendacion final"
   ]
  },
  {
   "cell_type": "code",
   "execution_count": 9,
   "metadata": {},
   "outputs": [],
   "source": [
    "item_lookup = raw_data[raw_data.CATEGORIA==\"Pelicula\"][['ID_GRUPO', 'TITULO']].drop_duplicates() \n",
    "item_lookup['ID_GRUPO'] = item_lookup.ID_GRUPO.astype(str) "
   ]
  },
  {
   "cell_type": "code",
   "execution_count": 10,
   "metadata": {},
   "outputs": [
    {
     "data": {
      "text/html": [
       "<div>\n",
       "<style scoped>\n",
       "    .dataframe tbody tr th:only-of-type {\n",
       "        vertical-align: middle;\n",
       "    }\n",
       "\n",
       "    .dataframe tbody tr th {\n",
       "        vertical-align: top;\n",
       "    }\n",
       "\n",
       "    .dataframe thead th {\n",
       "        text-align: right;\n",
       "    }\n",
       "</style>\n",
       "<table border=\"1\" class=\"dataframe\">\n",
       "  <thead>\n",
       "    <tr style=\"text-align: right;\">\n",
       "      <th></th>\n",
       "      <th>ID_GRUPO</th>\n",
       "      <th>TITULO</th>\n",
       "    </tr>\n",
       "  </thead>\n",
       "  <tbody>\n",
       "    <tr>\n",
       "      <th>0</th>\n",
       "      <td>526402</td>\n",
       "      <td>National Treasure</td>\n",
       "    </tr>\n",
       "    <tr>\n",
       "      <th>72</th>\n",
       "      <td>526403</td>\n",
       "      <td>Poohs Heffalump Movie</td>\n",
       "    </tr>\n",
       "    <tr>\n",
       "      <th>234</th>\n",
       "      <td>526406</td>\n",
       "      <td>Cars</td>\n",
       "    </tr>\n",
       "    <tr>\n",
       "      <th>406</th>\n",
       "      <td>526409</td>\n",
       "      <td>Princess Diaries 2, The: Royal Engagement</td>\n",
       "    </tr>\n",
       "    <tr>\n",
       "      <th>548</th>\n",
       "      <td>526422</td>\n",
       "      <td>Pirates of the Caribbean: The Curse of the Bla...</td>\n",
       "    </tr>\n",
       "  </tbody>\n",
       "</table>\n",
       "</div>"
      ],
      "text/plain": [
       "    ID_GRUPO                                             TITULO\n",
       "0     526402                                  National Treasure\n",
       "72    526403                              Poohs Heffalump Movie\n",
       "234   526406                                               Cars\n",
       "406   526409          Princess Diaries 2, The: Royal Engagement\n",
       "548   526422  Pirates of the Caribbean: The Curse of the Bla..."
      ]
     },
     "execution_count": 10,
     "metadata": {},
     "output_type": "execute_result"
    }
   ],
   "source": [
    "item_lookup.head()"
   ]
  },
  {
   "cell_type": "markdown",
   "metadata": {},
   "source": [
    "* Guardamos DF para base de datos y el sistema Watson Assistan"
   ]
  },
  {
   "cell_type": "code",
   "execution_count": 11,
   "metadata": {},
   "outputs": [],
   "source": [
    "item_lookup.to_csv(\"./data/db_item_lookup.csv\", index=False)"
   ]
  },
  {
   "cell_type": "markdown",
   "metadata": {},
   "source": [
    "#### 5. Recuperamos el dataset que se utilizará para el modelo de peliculas"
   ]
  },
  {
   "cell_type": "code",
   "execution_count": 12,
   "metadata": {},
   "outputs": [],
   "source": [
    "peliculas = raw_data[raw_data.CATEGORIA==\"Pelicula\"][[\"ID_CLIENTE\", \"ID_GRUPO\"]]"
   ]
  },
  {
   "cell_type": "markdown",
   "metadata": {},
   "source": [
    "#### 6. Eliminamos null y dejamos id_cliente como entero"
   ]
  },
  {
   "cell_type": "code",
   "execution_count": 13,
   "metadata": {},
   "outputs": [],
   "source": [
    "peliculas = peliculas.dropna()"
   ]
  },
  {
   "cell_type": "code",
   "execution_count": 14,
   "metadata": {},
   "outputs": [],
   "source": [
    "peliculas['ID_CLIENTE'] = peliculas.ID_CLIENTE.astype(int) "
   ]
  },
  {
   "cell_type": "markdown",
   "metadata": {},
   "source": [
    "##### 7. Contamos las veces que se han visto las peliculas"
   ]
  },
  {
   "cell_type": "code",
   "execution_count": 15,
   "metadata": {},
   "outputs": [],
   "source": [
    "peliculas[\"CANTIDAD\"] = 1"
   ]
  },
  {
   "cell_type": "code",
   "execution_count": 16,
   "metadata": {},
   "outputs": [],
   "source": [
    "grouped_purchased = peliculas.groupby(['ID_CLIENTE', 'ID_GRUPO']).sum().reset_index() "
   ]
  },
  {
   "cell_type": "code",
   "execution_count": 17,
   "metadata": {},
   "outputs": [
    {
     "data": {
      "text/html": [
       "<div>\n",
       "<style scoped>\n",
       "    .dataframe tbody tr th:only-of-type {\n",
       "        vertical-align: middle;\n",
       "    }\n",
       "\n",
       "    .dataframe tbody tr th {\n",
       "        vertical-align: top;\n",
       "    }\n",
       "\n",
       "    .dataframe thead th {\n",
       "        text-align: right;\n",
       "    }\n",
       "</style>\n",
       "<table border=\"1\" class=\"dataframe\">\n",
       "  <thead>\n",
       "    <tr style=\"text-align: right;\">\n",
       "      <th></th>\n",
       "      <th>ID_CLIENTE</th>\n",
       "      <th>ID_GRUPO</th>\n",
       "      <th>CANTIDAD</th>\n",
       "    </tr>\n",
       "  </thead>\n",
       "  <tbody>\n",
       "    <tr>\n",
       "      <th>0</th>\n",
       "      <td>16591302</td>\n",
       "      <td>528354</td>\n",
       "      <td>3</td>\n",
       "    </tr>\n",
       "    <tr>\n",
       "      <th>1</th>\n",
       "      <td>16591302</td>\n",
       "      <td>678597</td>\n",
       "      <td>1</td>\n",
       "    </tr>\n",
       "    <tr>\n",
       "      <th>2</th>\n",
       "      <td>16591302</td>\n",
       "      <td>775661</td>\n",
       "      <td>1</td>\n",
       "    </tr>\n",
       "    <tr>\n",
       "      <th>3</th>\n",
       "      <td>16599486</td>\n",
       "      <td>759487</td>\n",
       "      <td>1</td>\n",
       "    </tr>\n",
       "    <tr>\n",
       "      <th>4</th>\n",
       "      <td>16614228</td>\n",
       "      <td>776575</td>\n",
       "      <td>1</td>\n",
       "    </tr>\n",
       "  </tbody>\n",
       "</table>\n",
       "</div>"
      ],
      "text/plain": [
       "   ID_CLIENTE  ID_GRUPO  CANTIDAD\n",
       "0    16591302    528354         3\n",
       "1    16591302    678597         1\n",
       "2    16591302    775661         1\n",
       "3    16599486    759487         1\n",
       "4    16614228    776575         1"
      ]
     },
     "execution_count": 17,
     "metadata": {},
     "output_type": "execute_result"
    }
   ],
   "source": [
    "grouped_purchased.head()"
   ]
  },
  {
   "cell_type": "markdown",
   "metadata": {},
   "source": [
    "* El Dataset considera como valor minimo de agrupacion 1."
   ]
  },
  {
   "cell_type": "markdown",
   "metadata": {},
   "source": [
    "#### 8. Transformamos a dato categorico y reiniciamos secuencia "
   ]
  },
  {
   "cell_type": "code",
   "execution_count": 18,
   "metadata": {},
   "outputs": [],
   "source": [
    "grouped_purchased[\"ID_CLIENTE\"] = grouped_purchased[\"ID_CLIENTE\"].astype(\"category\")\n",
    "grouped_purchased[\"ID_GRUPO\"] = grouped_purchased[\"ID_GRUPO\"].astype(\"category\")"
   ]
  },
  {
   "cell_type": "code",
   "execution_count": 19,
   "metadata": {},
   "outputs": [],
   "source": [
    "grouped_purchased['ID_CLIENTE_ID'] = grouped_purchased['ID_CLIENTE'].cat.codes\n",
    "grouped_purchased['ID_GRUPO_ID'] = grouped_purchased['ID_GRUPO'].cat.codes"
   ]
  },
  {
   "cell_type": "code",
   "execution_count": 20,
   "metadata": {},
   "outputs": [
    {
     "data": {
      "text/html": [
       "<div>\n",
       "<style scoped>\n",
       "    .dataframe tbody tr th:only-of-type {\n",
       "        vertical-align: middle;\n",
       "    }\n",
       "\n",
       "    .dataframe tbody tr th {\n",
       "        vertical-align: top;\n",
       "    }\n",
       "\n",
       "    .dataframe thead th {\n",
       "        text-align: right;\n",
       "    }\n",
       "</style>\n",
       "<table border=\"1\" class=\"dataframe\">\n",
       "  <thead>\n",
       "    <tr style=\"text-align: right;\">\n",
       "      <th></th>\n",
       "      <th>ID_CLIENTE</th>\n",
       "      <th>ID_GRUPO</th>\n",
       "      <th>CANTIDAD</th>\n",
       "      <th>ID_CLIENTE_ID</th>\n",
       "      <th>ID_GRUPO_ID</th>\n",
       "    </tr>\n",
       "  </thead>\n",
       "  <tbody>\n",
       "    <tr>\n",
       "      <th>0</th>\n",
       "      <td>16591302</td>\n",
       "      <td>528354</td>\n",
       "      <td>3</td>\n",
       "      <td>0</td>\n",
       "      <td>78</td>\n",
       "    </tr>\n",
       "    <tr>\n",
       "      <th>1</th>\n",
       "      <td>16591302</td>\n",
       "      <td>678597</td>\n",
       "      <td>1</td>\n",
       "      <td>0</td>\n",
       "      <td>1281</td>\n",
       "    </tr>\n",
       "    <tr>\n",
       "      <th>2</th>\n",
       "      <td>16591302</td>\n",
       "      <td>775661</td>\n",
       "      <td>1</td>\n",
       "      <td>0</td>\n",
       "      <td>2449</td>\n",
       "    </tr>\n",
       "    <tr>\n",
       "      <th>3</th>\n",
       "      <td>16599486</td>\n",
       "      <td>759487</td>\n",
       "      <td>1</td>\n",
       "      <td>1</td>\n",
       "      <td>2095</td>\n",
       "    </tr>\n",
       "    <tr>\n",
       "      <th>4</th>\n",
       "      <td>16614228</td>\n",
       "      <td>776575</td>\n",
       "      <td>1</td>\n",
       "      <td>2</td>\n",
       "      <td>2473</td>\n",
       "    </tr>\n",
       "  </tbody>\n",
       "</table>\n",
       "</div>"
      ],
      "text/plain": [
       "  ID_CLIENTE ID_GRUPO  CANTIDAD  ID_CLIENTE_ID  ID_GRUPO_ID\n",
       "0   16591302   528354         3              0           78\n",
       "1   16591302   678597         1              0         1281\n",
       "2   16591302   775661         1              0         2449\n",
       "3   16599486   759487         1              1         2095\n",
       "4   16614228   776575         1              2         2473"
      ]
     },
     "execution_count": 20,
     "metadata": {},
     "output_type": "execute_result"
    }
   ],
   "source": [
    "grouped_purchased.head()"
   ]
  },
  {
   "cell_type": "markdown",
   "metadata": {},
   "source": [
    "#### 9. Generamos lista de items y usuarios"
   ]
  },
  {
   "cell_type": "code",
   "execution_count": 21,
   "metadata": {},
   "outputs": [],
   "source": [
    "item_idx = grouped_purchased[[\"ID_GRUPO\", \"ID_GRUPO_ID\"]].drop_duplicates()"
   ]
  },
  {
   "cell_type": "code",
   "execution_count": 22,
   "metadata": {},
   "outputs": [],
   "source": [
    "user_idx = grouped_purchased[[\"ID_CLIENTE\", \"ID_CLIENTE_ID\"]].drop_duplicates()"
   ]
  },
  {
   "cell_type": "markdown",
   "metadata": {},
   "source": [
    "#### 10.  La libreria implicit espera data configurada como matriz (item-user) y (user-item)"
   ]
  },
  {
   "cell_type": "code",
   "execution_count": 23,
   "metadata": {},
   "outputs": [],
   "source": [
    "sparse_item_user = sparse.csr_matrix(\n",
    "    (grouped_purchased['CANTIDAD'].astype(float), \n",
    "     (grouped_purchased['ID_GRUPO_ID'], \n",
    "      grouped_purchased['ID_CLIENTE_ID'])))"
   ]
  },
  {
   "cell_type": "code",
   "execution_count": 24,
   "metadata": {},
   "outputs": [],
   "source": [
    "sparse_user_item = sparse.csr_matrix(\n",
    "    (grouped_purchased['CANTIDAD'].astype(float), \n",
    "     (grouped_purchased['ID_CLIENTE_ID'], \n",
    "      grouped_purchased['ID_GRUPO_ID'])))"
   ]
  },
  {
   "cell_type": "markdown",
   "metadata": {},
   "source": [
    "#### 11. Comenzamos el modelamiento"
   ]
  },
  {
   "cell_type": "code",
   "execution_count": 25,
   "metadata": {},
   "outputs": [
    {
     "name": "stderr",
     "output_type": "stream",
     "text": [
      "WARNING:root:Intel MKL BLAS detected. Its highly recommend to set the environment variable 'export MKL_NUM_THREADS=1' to disable its internal multithreading\n"
     ]
    }
   ],
   "source": [
    "model = implicit.als.AlternatingLeastSquares(factors=20, regularization=0.1, iterations=20)"
   ]
  },
  {
   "cell_type": "markdown",
   "metadata": {},
   "source": [
    "* Multiplicamos por un valor alpha con valor 15"
   ]
  },
  {
   "cell_type": "code",
   "execution_count": 26,
   "metadata": {},
   "outputs": [],
   "source": [
    "alpha_val = 15\n",
    "data_conf = (sparse_item_user * alpha_val).astype('double')"
   ]
  },
  {
   "cell_type": "code",
   "execution_count": 27,
   "metadata": {},
   "outputs": [
    {
     "name": "stderr",
     "output_type": "stream",
     "text": [
      "100%|██████████| 20.0/20 [00:03<00:00,  6.00it/s]\n"
     ]
    }
   ],
   "source": [
    "model.fit(data_conf)"
   ]
  },
  {
   "cell_type": "markdown",
   "metadata": {},
   "source": [
    "#### 12. Buscamos recomendaciones sumilares por item (1 caso)"
   ]
  },
  {
   "cell_type": "code",
   "execution_count": 28,
   "metadata": {},
   "outputs": [],
   "source": [
    "item_id = 1927 \n",
    "n_similar = 3"
   ]
  },
  {
   "cell_type": "code",
   "execution_count": 29,
   "metadata": {},
   "outputs": [],
   "source": [
    "user_vecs = model.user_factors\n",
    "item_vecs = model.item_factors"
   ]
  },
  {
   "cell_type": "code",
   "execution_count": 30,
   "metadata": {},
   "outputs": [],
   "source": [
    "def RecommendByItem(item_id, item_vecs, num_items=3):\n",
    "    item_norms = np.sqrt((item_vecs * item_vecs).sum(axis=1))\n",
    "    \n",
    "    scores = item_vecs.dot(item_vecs[item_id]) / item_norms\n",
    "    top_idx = np.argpartition(scores, -num_items)[-num_items:]\n",
    "    similar = sorted(zip(top_idx, scores[top_idx] / item_norms[item_id]), key=lambda x: -x[1])\n",
    " \n",
    "    stockcodes = []\n",
    "    scores = []\n",
    "\n",
    "    for item in similar:\n",
    "        idx, score = item\n",
    "        stockcodes.append(grouped_purchased.ID_GRUPO.loc[grouped_purchased.ID_GRUPO_ID == idx].iloc[0])\n",
    "        scores.append(score)\n",
    "\n",
    "    recommendations = pd.DataFrame({'ID_GRUPO_ID' : item_id, 'ID_GRUPO': stockcodes, 'Score': scores})\n",
    "    \n",
    "    return recommendations"
   ]
  },
  {
   "cell_type": "code",
   "execution_count": 31,
   "metadata": {},
   "outputs": [
    {
     "data": {
      "text/html": [
       "<div>\n",
       "<style scoped>\n",
       "    .dataframe tbody tr th:only-of-type {\n",
       "        vertical-align: middle;\n",
       "    }\n",
       "\n",
       "    .dataframe tbody tr th {\n",
       "        vertical-align: top;\n",
       "    }\n",
       "\n",
       "    .dataframe thead th {\n",
       "        text-align: right;\n",
       "    }\n",
       "</style>\n",
       "<table border=\"1\" class=\"dataframe\">\n",
       "  <thead>\n",
       "    <tr style=\"text-align: right;\">\n",
       "      <th></th>\n",
       "      <th>ID_GRUPO_ID</th>\n",
       "      <th>ID_GRUPO</th>\n",
       "      <th>Score</th>\n",
       "    </tr>\n",
       "  </thead>\n",
       "  <tbody>\n",
       "    <tr>\n",
       "      <th>0</th>\n",
       "      <td>1927</td>\n",
       "      <td>746298</td>\n",
       "      <td>1.000000</td>\n",
       "    </tr>\n",
       "    <tr>\n",
       "      <th>1</th>\n",
       "      <td>1927</td>\n",
       "      <td>594323</td>\n",
       "      <td>0.727635</td>\n",
       "    </tr>\n",
       "    <tr>\n",
       "      <th>2</th>\n",
       "      <td>1927</td>\n",
       "      <td>771861</td>\n",
       "      <td>0.670516</td>\n",
       "    </tr>\n",
       "  </tbody>\n",
       "</table>\n",
       "</div>"
      ],
      "text/plain": [
       "   ID_GRUPO_ID  ID_GRUPO     Score\n",
       "0         1927    746298  1.000000\n",
       "1         1927    594323  0.727635\n",
       "2         1927    771861  0.670516"
      ]
     },
     "execution_count": 31,
     "metadata": {},
     "output_type": "execute_result"
    }
   ],
   "source": [
    "RecommendByItem(1927, item_vecs, num_items=3)"
   ]
  },
  {
   "cell_type": "markdown",
   "metadata": {},
   "source": [
    "#### 13. Buscamos recomendaciones sumilares por user (1 caso)"
   ]
  },
  {
   "cell_type": "code",
   "execution_count": 32,
   "metadata": {},
   "outputs": [],
   "source": [
    "def RecommendByUser(user_id, sparse_user_item, user_vecs, item_vecs, num_items=3):\n",
    "    \"\"\"The same recommendation function we used before\"\"\"\n",
    "\n",
    "    user_interactions = sparse_user_item[user_id,:].toarray()\n",
    "\n",
    "    user_interactions = user_interactions.reshape(-1) + 1\n",
    "    user_interactions[user_interactions > 1] = 0\n",
    "\n",
    "    rec_vector = user_vecs[user_id,:].dot(item_vecs.T).toarray()\n",
    "\n",
    "    min_max = MinMaxScaler()\n",
    "    rec_vector_scaled = min_max.fit_transform(rec_vector.reshape(-1,1))[:,0]\n",
    "    recommend_vector = user_interactions * rec_vector_scaled\n",
    "\n",
    "    item_idx = np.argsort(recommend_vector)[::-1][:num_items]\n",
    "\n",
    "    stockcodes = []\n",
    "    scores = []\n",
    "\n",
    "    for idx in item_idx:\n",
    "        stockcodes.append(grouped_purchased.ID_GRUPO.loc[grouped_purchased.ID_GRUPO_ID == idx].iloc[0])\n",
    "        scores.append(recommend_vector[idx])\n",
    "\n",
    "    recommendations = pd.DataFrame({'ID_CLIENTE_ID' : user_id,'ID_GRUPO': stockcodes, 'Score': scores})\n",
    "\n",
    "    return recommendations"
   ]
  },
  {
   "cell_type": "code",
   "execution_count": 33,
   "metadata": {},
   "outputs": [
    {
     "name": "stdout",
     "output_type": "stream",
     "text": [
      "   ID_CLIENTE_ID  ID_GRUPO     Score\n",
      "0           2025    596060  1.000000\n",
      "1           2025    532755  0.991613\n",
      "2           2025    648707  0.984252\n"
     ]
    }
   ],
   "source": [
    "user_vecs = sparse.csr_matrix(model.user_factors)\n",
    "item_vecs = sparse.csr_matrix(model.item_factors)\n",
    "\n",
    "user_id = 2025\n",
    "\n",
    "recommendations = RecommendByUser(user_id, sparse_user_item, user_vecs, item_vecs)\n",
    "\n",
    "print (recommendations)"
   ]
  },
  {
   "cell_type": "code",
   "execution_count": 34,
   "metadata": {},
   "outputs": [
    {
     "data": {
      "text/html": [
       "<div>\n",
       "<style scoped>\n",
       "    .dataframe tbody tr th:only-of-type {\n",
       "        vertical-align: middle;\n",
       "    }\n",
       "\n",
       "    .dataframe tbody tr th {\n",
       "        vertical-align: top;\n",
       "    }\n",
       "\n",
       "    .dataframe thead th {\n",
       "        text-align: right;\n",
       "    }\n",
       "</style>\n",
       "<table border=\"1\" class=\"dataframe\">\n",
       "  <thead>\n",
       "    <tr style=\"text-align: right;\">\n",
       "      <th></th>\n",
       "      <th>ID_GRUPO</th>\n",
       "      <th>TITULO</th>\n",
       "    </tr>\n",
       "  </thead>\n",
       "  <tbody>\n",
       "    <tr>\n",
       "      <th>102924</th>\n",
       "      <td>684678</td>\n",
       "      <td>Girl, Interrupted</td>\n",
       "    </tr>\n",
       "  </tbody>\n",
       "</table>\n",
       "</div>"
      ],
      "text/plain": [
       "       ID_GRUPO             TITULO\n",
       "102924   684678  Girl, Interrupted"
      ]
     },
     "execution_count": 34,
     "metadata": {},
     "output_type": "execute_result"
    }
   ],
   "source": [
    "item_lookup[item_lookup.ID_GRUPO==\"684678\"]"
   ]
  },
  {
   "cell_type": "markdown",
   "metadata": {},
   "source": [
    "#### 14. Creamos base de recomendacion según Usuario."
   ]
  },
  {
   "cell_type": "code",
   "execution_count": 35,
   "metadata": {},
   "outputs": [],
   "source": [
    "def GetDB_Users(usuarios):\n",
    "    dfs = []\n",
    "    for user in usuarios.ID_CLIENTE_ID:\n",
    "        dfs.append(RecommendByUser(user, sparse_user_item, user_vecs, item_vecs))\n",
    "    return dfs   "
   ]
  },
  {
   "cell_type": "code",
   "execution_count": 36,
   "metadata": {},
   "outputs": [],
   "source": [
    "df = GetDB_Users(user_idx)"
   ]
  },
  {
   "cell_type": "code",
   "execution_count": 37,
   "metadata": {},
   "outputs": [],
   "source": [
    "pd.concat(df).to_csv(\"./data/db_tmp_user_score.csv\", index=False)"
   ]
  },
  {
   "cell_type": "code",
   "execution_count": 38,
   "metadata": {},
   "outputs": [],
   "source": [
    "df_tmp = pd.read_csv(\"./data/db_tmp_user_score.csv\")"
   ]
  },
  {
   "cell_type": "code",
   "execution_count": 39,
   "metadata": {},
   "outputs": [
    {
     "data": {
      "text/html": [
       "<div>\n",
       "<style scoped>\n",
       "    .dataframe tbody tr th:only-of-type {\n",
       "        vertical-align: middle;\n",
       "    }\n",
       "\n",
       "    .dataframe tbody tr th {\n",
       "        vertical-align: top;\n",
       "    }\n",
       "\n",
       "    .dataframe thead th {\n",
       "        text-align: right;\n",
       "    }\n",
       "</style>\n",
       "<table border=\"1\" class=\"dataframe\">\n",
       "  <thead>\n",
       "    <tr style=\"text-align: right;\">\n",
       "      <th></th>\n",
       "      <th>ID_CLIENTE_ID</th>\n",
       "      <th>ID_GRUPO</th>\n",
       "      <th>Score</th>\n",
       "    </tr>\n",
       "  </thead>\n",
       "  <tbody>\n",
       "    <tr>\n",
       "      <th>0</th>\n",
       "      <td>0</td>\n",
       "      <td>540141</td>\n",
       "      <td>0.926875</td>\n",
       "    </tr>\n",
       "    <tr>\n",
       "      <th>1</th>\n",
       "      <td>0</td>\n",
       "      <td>779646</td>\n",
       "      <td>0.891710</td>\n",
       "    </tr>\n",
       "    <tr>\n",
       "      <th>2</th>\n",
       "      <td>0</td>\n",
       "      <td>532755</td>\n",
       "      <td>0.840386</td>\n",
       "    </tr>\n",
       "    <tr>\n",
       "      <th>3</th>\n",
       "      <td>1</td>\n",
       "      <td>591261</td>\n",
       "      <td>1.000000</td>\n",
       "    </tr>\n",
       "    <tr>\n",
       "      <th>4</th>\n",
       "      <td>1</td>\n",
       "      <td>528880</td>\n",
       "      <td>0.854312</td>\n",
       "    </tr>\n",
       "  </tbody>\n",
       "</table>\n",
       "</div>"
      ],
      "text/plain": [
       "   ID_CLIENTE_ID  ID_GRUPO     Score\n",
       "0              0    540141  0.926875\n",
       "1              0    779646  0.891710\n",
       "2              0    532755  0.840386\n",
       "3              1    591261  1.000000\n",
       "4              1    528880  0.854312"
      ]
     },
     "execution_count": 39,
     "metadata": {},
     "output_type": "execute_result"
    }
   ],
   "source": [
    "df_tmp.head()"
   ]
  },
  {
   "cell_type": "markdown",
   "metadata": {},
   "source": [
    "* Creamos Dataset para cargar en la base"
   ]
  },
  {
   "cell_type": "code",
   "execution_count": 40,
   "metadata": {},
   "outputs": [],
   "source": [
    "df_tb_user = pd.merge(df_tmp, user_idx, on='ID_CLIENTE_ID')[[\"ID_CLIENTE\", \"ID_GRUPO\", \"Score\"]]"
   ]
  },
  {
   "cell_type": "code",
   "execution_count": 41,
   "metadata": {},
   "outputs": [
    {
     "data": {
      "text/html": [
       "<div>\n",
       "<style scoped>\n",
       "    .dataframe tbody tr th:only-of-type {\n",
       "        vertical-align: middle;\n",
       "    }\n",
       "\n",
       "    .dataframe tbody tr th {\n",
       "        vertical-align: top;\n",
       "    }\n",
       "\n",
       "    .dataframe thead th {\n",
       "        text-align: right;\n",
       "    }\n",
       "</style>\n",
       "<table border=\"1\" class=\"dataframe\">\n",
       "  <thead>\n",
       "    <tr style=\"text-align: right;\">\n",
       "      <th></th>\n",
       "      <th>ID_CLIENTE</th>\n",
       "      <th>ID_GRUPO</th>\n",
       "      <th>Score</th>\n",
       "    </tr>\n",
       "  </thead>\n",
       "  <tbody>\n",
       "    <tr>\n",
       "      <th>0</th>\n",
       "      <td>16591302</td>\n",
       "      <td>540141</td>\n",
       "      <td>0.926875</td>\n",
       "    </tr>\n",
       "    <tr>\n",
       "      <th>1</th>\n",
       "      <td>16591302</td>\n",
       "      <td>779646</td>\n",
       "      <td>0.891710</td>\n",
       "    </tr>\n",
       "    <tr>\n",
       "      <th>2</th>\n",
       "      <td>16591302</td>\n",
       "      <td>532755</td>\n",
       "      <td>0.840386</td>\n",
       "    </tr>\n",
       "    <tr>\n",
       "      <th>3</th>\n",
       "      <td>16599486</td>\n",
       "      <td>591261</td>\n",
       "      <td>1.000000</td>\n",
       "    </tr>\n",
       "    <tr>\n",
       "      <th>4</th>\n",
       "      <td>16599486</td>\n",
       "      <td>528880</td>\n",
       "      <td>0.854312</td>\n",
       "    </tr>\n",
       "  </tbody>\n",
       "</table>\n",
       "</div>"
      ],
      "text/plain": [
       "  ID_CLIENTE  ID_GRUPO     Score\n",
       "0   16591302    540141  0.926875\n",
       "1   16591302    779646  0.891710\n",
       "2   16591302    532755  0.840386\n",
       "3   16599486    591261  1.000000\n",
       "4   16599486    528880  0.854312"
      ]
     },
     "execution_count": 41,
     "metadata": {},
     "output_type": "execute_result"
    }
   ],
   "source": [
    "df_tb_user.head()"
   ]
  },
  {
   "cell_type": "code",
   "execution_count": 42,
   "metadata": {},
   "outputs": [],
   "source": [
    "df_tb_user.to_csv(\"./data/db_user_score.csv\", index=False)"
   ]
  },
  {
   "cell_type": "markdown",
   "metadata": {},
   "source": [
    "#### 15. Creamos base de Recomendacion para items"
   ]
  },
  {
   "cell_type": "code",
   "execution_count": 43,
   "metadata": {},
   "outputs": [],
   "source": [
    "user_vecs = model.user_factors\n",
    "item_vecs = model.item_factors"
   ]
  },
  {
   "cell_type": "code",
   "execution_count": 44,
   "metadata": {},
   "outputs": [],
   "source": [
    "def GetDB_Item(items):\n",
    "    dfs = []\n",
    "    for item in items.ID_GRUPO_ID:\n",
    "        dfs.append(RecommendByItem(item, item_vecs, 4))\n",
    "    return dfs "
   ]
  },
  {
   "cell_type": "code",
   "execution_count": 45,
   "metadata": {},
   "outputs": [],
   "source": [
    "df = GetDB_Item(item_idx)"
   ]
  },
  {
   "cell_type": "code",
   "execution_count": 46,
   "metadata": {},
   "outputs": [],
   "source": [
    "pd.concat(df).to_csv(\"./data/db_tmp_item_score.csv\", index=False)"
   ]
  },
  {
   "cell_type": "code",
   "execution_count": 47,
   "metadata": {},
   "outputs": [],
   "source": [
    "df_tmp = pd.read_csv(\"./data/db_tmp_item_score.csv\")"
   ]
  },
  {
   "cell_type": "code",
   "execution_count": 48,
   "metadata": {},
   "outputs": [
    {
     "data": {
      "text/html": [
       "<div>\n",
       "<style scoped>\n",
       "    .dataframe tbody tr th:only-of-type {\n",
       "        vertical-align: middle;\n",
       "    }\n",
       "\n",
       "    .dataframe tbody tr th {\n",
       "        vertical-align: top;\n",
       "    }\n",
       "\n",
       "    .dataframe thead th {\n",
       "        text-align: right;\n",
       "    }\n",
       "</style>\n",
       "<table border=\"1\" class=\"dataframe\">\n",
       "  <thead>\n",
       "    <tr style=\"text-align: right;\">\n",
       "      <th></th>\n",
       "      <th>ID_GRUPO_ID</th>\n",
       "      <th>ID_GRUPO</th>\n",
       "      <th>Score</th>\n",
       "    </tr>\n",
       "  </thead>\n",
       "  <tbody>\n",
       "    <tr>\n",
       "      <th>0</th>\n",
       "      <td>78</td>\n",
       "      <td>528354</td>\n",
       "      <td>1.000000</td>\n",
       "    </tr>\n",
       "    <tr>\n",
       "      <th>1</th>\n",
       "      <td>78</td>\n",
       "      <td>578506</td>\n",
       "      <td>0.843519</td>\n",
       "    </tr>\n",
       "    <tr>\n",
       "      <th>2</th>\n",
       "      <td>78</td>\n",
       "      <td>714961</td>\n",
       "      <td>0.760762</td>\n",
       "    </tr>\n",
       "    <tr>\n",
       "      <th>3</th>\n",
       "      <td>78</td>\n",
       "      <td>777239</td>\n",
       "      <td>0.717573</td>\n",
       "    </tr>\n",
       "    <tr>\n",
       "      <th>4</th>\n",
       "      <td>1281</td>\n",
       "      <td>678597</td>\n",
       "      <td>1.000000</td>\n",
       "    </tr>\n",
       "  </tbody>\n",
       "</table>\n",
       "</div>"
      ],
      "text/plain": [
       "   ID_GRUPO_ID  ID_GRUPO     Score\n",
       "0           78    528354  1.000000\n",
       "1           78    578506  0.843519\n",
       "2           78    714961  0.760762\n",
       "3           78    777239  0.717573\n",
       "4         1281    678597  1.000000"
      ]
     },
     "execution_count": 48,
     "metadata": {},
     "output_type": "execute_result"
    }
   ],
   "source": [
    "df_tmp.head()"
   ]
  },
  {
   "cell_type": "markdown",
   "metadata": {},
   "source": [
    "* Creamos dataset para cargar base de items"
   ]
  },
  {
   "cell_type": "code",
   "execution_count": 49,
   "metadata": {},
   "outputs": [],
   "source": [
    "df_tb_item = pd.merge(df_tmp, item_idx, on='ID_GRUPO_ID')"
   ]
  },
  {
   "cell_type": "code",
   "execution_count": 50,
   "metadata": {},
   "outputs": [],
   "source": [
    "del df_tb_item[\"ID_GRUPO_ID\"]"
   ]
  },
  {
   "cell_type": "code",
   "execution_count": 51,
   "metadata": {},
   "outputs": [
    {
     "data": {
      "text/html": [
       "<div>\n",
       "<style scoped>\n",
       "    .dataframe tbody tr th:only-of-type {\n",
       "        vertical-align: middle;\n",
       "    }\n",
       "\n",
       "    .dataframe tbody tr th {\n",
       "        vertical-align: top;\n",
       "    }\n",
       "\n",
       "    .dataframe thead th {\n",
       "        text-align: right;\n",
       "    }\n",
       "</style>\n",
       "<table border=\"1\" class=\"dataframe\">\n",
       "  <thead>\n",
       "    <tr style=\"text-align: right;\">\n",
       "      <th></th>\n",
       "      <th>ID_GRUPO_x</th>\n",
       "      <th>Score</th>\n",
       "      <th>ID_GRUPO_y</th>\n",
       "    </tr>\n",
       "  </thead>\n",
       "  <tbody>\n",
       "    <tr>\n",
       "      <th>0</th>\n",
       "      <td>528354</td>\n",
       "      <td>1.000000</td>\n",
       "      <td>528354</td>\n",
       "    </tr>\n",
       "    <tr>\n",
       "      <th>1</th>\n",
       "      <td>578506</td>\n",
       "      <td>0.843519</td>\n",
       "      <td>528354</td>\n",
       "    </tr>\n",
       "    <tr>\n",
       "      <th>2</th>\n",
       "      <td>714961</td>\n",
       "      <td>0.760762</td>\n",
       "      <td>528354</td>\n",
       "    </tr>\n",
       "    <tr>\n",
       "      <th>3</th>\n",
       "      <td>777239</td>\n",
       "      <td>0.717573</td>\n",
       "      <td>528354</td>\n",
       "    </tr>\n",
       "    <tr>\n",
       "      <th>4</th>\n",
       "      <td>678597</td>\n",
       "      <td>1.000000</td>\n",
       "      <td>678597</td>\n",
       "    </tr>\n",
       "  </tbody>\n",
       "</table>\n",
       "</div>"
      ],
      "text/plain": [
       "   ID_GRUPO_x     Score ID_GRUPO_y\n",
       "0      528354  1.000000     528354\n",
       "1      578506  0.843519     528354\n",
       "2      714961  0.760762     528354\n",
       "3      777239  0.717573     528354\n",
       "4      678597  1.000000     678597"
      ]
     },
     "execution_count": 51,
     "metadata": {},
     "output_type": "execute_result"
    }
   ],
   "source": [
    "df_tb_item.head()"
   ]
  },
  {
   "cell_type": "code",
   "execution_count": 52,
   "metadata": {},
   "outputs": [],
   "source": [
    "df_tb_item.rename(columns={'ID_GRUPO_x':'ID_GRUPO', 'ID_GRUPO_y':'ID_ITEM' }, inplace=True)"
   ]
  },
  {
   "cell_type": "code",
   "execution_count": 53,
   "metadata": {},
   "outputs": [
    {
     "data": {
      "text/html": [
       "<div>\n",
       "<style scoped>\n",
       "    .dataframe tbody tr th:only-of-type {\n",
       "        vertical-align: middle;\n",
       "    }\n",
       "\n",
       "    .dataframe tbody tr th {\n",
       "        vertical-align: top;\n",
       "    }\n",
       "\n",
       "    .dataframe thead th {\n",
       "        text-align: right;\n",
       "    }\n",
       "</style>\n",
       "<table border=\"1\" class=\"dataframe\">\n",
       "  <thead>\n",
       "    <tr style=\"text-align: right;\">\n",
       "      <th></th>\n",
       "      <th>ID_GRUPO</th>\n",
       "      <th>Score</th>\n",
       "      <th>ID_ITEM</th>\n",
       "    </tr>\n",
       "  </thead>\n",
       "  <tbody>\n",
       "    <tr>\n",
       "      <th>0</th>\n",
       "      <td>528354</td>\n",
       "      <td>1.000000</td>\n",
       "      <td>528354</td>\n",
       "    </tr>\n",
       "    <tr>\n",
       "      <th>1</th>\n",
       "      <td>578506</td>\n",
       "      <td>0.843519</td>\n",
       "      <td>528354</td>\n",
       "    </tr>\n",
       "    <tr>\n",
       "      <th>2</th>\n",
       "      <td>714961</td>\n",
       "      <td>0.760762</td>\n",
       "      <td>528354</td>\n",
       "    </tr>\n",
       "    <tr>\n",
       "      <th>3</th>\n",
       "      <td>777239</td>\n",
       "      <td>0.717573</td>\n",
       "      <td>528354</td>\n",
       "    </tr>\n",
       "    <tr>\n",
       "      <th>4</th>\n",
       "      <td>678597</td>\n",
       "      <td>1.000000</td>\n",
       "      <td>678597</td>\n",
       "    </tr>\n",
       "  </tbody>\n",
       "</table>\n",
       "</div>"
      ],
      "text/plain": [
       "   ID_GRUPO     Score ID_ITEM\n",
       "0    528354  1.000000  528354\n",
       "1    578506  0.843519  528354\n",
       "2    714961  0.760762  528354\n",
       "3    777239  0.717573  528354\n",
       "4    678597  1.000000  678597"
      ]
     },
     "execution_count": 53,
     "metadata": {},
     "output_type": "execute_result"
    }
   ],
   "source": [
    "df_tb_item.head()"
   ]
  },
  {
   "cell_type": "code",
   "execution_count": 54,
   "metadata": {},
   "outputs": [],
   "source": [
    "df_tb_item.to_csv(\"./data/db_item_score.csv\", index=False)"
   ]
  },
  {
   "cell_type": "markdown",
   "metadata": {},
   "source": [
    "#### Conclusiones:\n",
    "Se puede obtener muy buenos resultados con este tipo de metodologia. Se puede mejorar utilizando en vez de las veces de aparacion, el porcentaje del tiempo que se vio la pelicula, con ello se agrega un elemento mas fino para efecto de recomendación.\n",
    "\n",
    "Queda en liberar del lector expander el modelo para Series y Programas en vivo."
   ]
  },
  {
   "cell_type": "code",
   "execution_count": null,
   "metadata": {},
   "outputs": [],
   "source": []
  }
 ],
 "metadata": {
  "kernelspec": {
   "display_name": "Python 3",
   "language": "python",
   "name": "python3"
  },
  "language_info": {
   "codemirror_mode": {
    "name": "ipython",
    "version": 3
   },
   "file_extension": ".py",
   "mimetype": "text/x-python",
   "name": "python",
   "nbconvert_exporter": "python",
   "pygments_lexer": "ipython3",
   "version": "3.6.8"
  }
 },
 "nbformat": 4,
 "nbformat_minor": 2
}
