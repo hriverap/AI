{
 "cells": [
  {
   "cell_type": "markdown",
   "metadata": {},
   "source": [
    "# Magister en Ciencia de Datos - UDD\n",
    "## IAA (Inteligencia Artificial Aplicada)\n",
    "### Desafio 2:  \n",
    "\n",
    "Implememntación de un agente virtual ChatBot para recomendación de peliculas, este ChatBot se debe implementar utilizado <a href=\"https://cloud.ibm.com/docs/services/assistant?topic=assistant-getting-started#getting-started\">Watson Assistan</a>. La arquitectura de la solucion debe incluir el uso de una base de datos para almacenar el contenido de modelo de recomendaciones por usuario y peliculas. El Chatbot se comunicará con la base por medio del uso de API REST de IBM llamado (<a href=\"https://cloud.ibm.com/openwhisk/\">IBM Cloud Function</a>). En este notebook se describiran los pasos necesarios para la configuracion e implementacion del servicio. \n",
    "\n",
    "\n",
    "### Resultado:\n",
    "Dentro de la logica del agente, este debe considerar 2 tipos de preguntas, a saber: \n",
    "* Recomendacion de pelicula para el usuario\n",
    "* Recomendacion de pelicula según el contenido (nombre pelicula)\n",
    "\n",
    "By Hernan Rivera & Jose Pedro Berenguer "
   ]
  },
  {
   "cell_type": "markdown",
   "metadata": {},
   "source": [
    "## Let's start :)"
   ]
  },
  {
   "cell_type": "markdown",
   "metadata": {},
   "source": [
    "#### 1. Creamos cuenta en gratis en IBM Cloud"
   ]
  },
  {
   "cell_type": "markdown",
   "metadata": {},
   "source": [
    "Utilizando el siguiente link: <a href=\"https://cloud.ibm.com/login\">Login</a>, se podra acceder a un pagína para la creacion de una cuenta gratuita en el IBM Cloud. Es este punto, lo mejor es usar una cuenta Google y que no se encuentre registrada pues la cuenta expira despues de un tiempo y no permite activacion sino es por medio de pago."
   ]
  },
  {
   "cell_type": "markdown",
   "metadata": {},
   "source": [
    "#### 2. Creacion de base de datos"
   ]
  },
  {
   "cell_type": "markdown",
   "metadata": {},
   "source": [
    "La creacion de la base de datos debe considerar el modelo de datos a implementar, según la necesidad de negocio y usabilidad que deseamos para el chatbot junto con la data que se genero por el modelo de recomendación:\n",
    "\n",
    "> 2.1 Tablas del Modelo:\n",
    "* Base con los codigos y los nombres de peliculas (**db_item_lookup.csv**)\n",
    "* Base de recomendaciones de peliculas por usuario (**db_user_score.csv**)\n",
    "* Base de recomendaciones de peliculas por item (**db_item_score.csv**)"
   ]
  },
  {
   "cell_type": "markdown",
   "metadata": {},
   "source": [
    "<img src=\"./img/modelo_datos.png\" align=\"left\">"
   ]
  },
  {
   "cell_type": "markdown",
   "metadata": {},
   "source": [
    "> 2.2 Desde la cuenta de IBM Cloud, buscar DB2."
   ]
  },
  {
   "cell_type": "markdown",
   "metadata": {},
   "source": [
    "<img src=\"./img/IBM_DB2.png\" align=\"left\">"
   ]
  },
  {
   "cell_type": "markdown",
   "metadata": {},
   "source": [
    "> 2.3 Desde la opción de RUN SQL de la consol DB2, ejecutar los siguientes scripts.\n",
    "\n",
    "<img src=\"./img/DB2_RUN_SQL.png\" align=\"left\">"
   ]
  },
  {
   "cell_type": "markdown",
   "metadata": {},
   "source": [
    "> Tabla (tb_item_lookup)_\n",
    "\n",
    "> create table tb_item_lookup (\n",
    "\t id_grupo int not null,\n",
    "\t titulo varchar(50) not null\n",
    ")\n",
    "\n",
    "> Tabla (tb_item_score)\n",
    "\n",
    "> create table tb_item_score (\n",
    "\t id_grupo int not null,\n",
    "\t score double not null,\n",
    "\t id_item int not null\n",
    ")\n",
    "\n",
    "> Tabla (tb_user_score)\n",
    "\n",
    "> create table tb_user_score (\n",
    "\tid_cliente int not null,\n",
    "\tid_grupo int not null,\n",
    "\tscore double not null\n",
    ")\n",
    "\n"
   ]
  },
  {
   "cell_type": "markdown",
   "metadata": {},
   "source": [
    "Se pueden observar las bases creadas por medio la funcionalidad EXPLORE de la consola DB2."
   ]
  },
  {
   "cell_type": "markdown",
   "metadata": {},
   "source": [
    "<img src=\"./img/DB2_EXPLORE.png\" align=\"left\">"
   ]
  },
  {
   "cell_type": "markdown",
   "metadata": {},
   "source": [
    "#### 3. Carga de datos."
   ]
  },
  {
   "cell_type": "markdown",
   "metadata": {},
   "source": [
    "Por medio de la funcionalidad LOAD de la consola DB2, carga los archivos csv en la base de datos\n",
    "\n",
    "> 3.1 Se selecciona el archivo de datos:"
   ]
  },
  {
   "cell_type": "markdown",
   "metadata": {},
   "source": [
    "<img src=\"./img/DB2_LOAD.png\" align=\"left\">"
   ]
  },
  {
   "cell_type": "markdown",
   "metadata": {},
   "source": [
    "> 3.2 Se verificar que la estructura de origen y destino sean consistentes:"
   ]
  },
  {
   "cell_type": "markdown",
   "metadata": {},
   "source": [
    "<img src=\"./img/DB2_LOAD1.png\" align=\"left\">"
   ]
  },
  {
   "cell_type": "markdown",
   "metadata": {},
   "source": [
    "> 3.3 Se verifica carga de datos:"
   ]
  },
  {
   "cell_type": "markdown",
   "metadata": {},
   "source": [
    "<img src=\"./img/DB2_LOAD2.png\" align=\"left\">"
   ]
  },
  {
   "cell_type": "markdown",
   "metadata": {},
   "source": [
    "Este paso se repite para cada una de las tablas de la base de datos."
   ]
  },
  {
   "cell_type": "markdown",
   "metadata": {},
   "source": [
    "#### 4. Creamos acción con el modulo IBM Cloud Function.\n",
    "Se busca el modulo en search por medio del texto \"Function\".\n",
    "\n",
    "<img src=\"./img/Function1.png\" align=\"left\">"
   ]
  },
  {
   "cell_type": "markdown",
   "metadata": {},
   "source": [
    "> 4.1 Seleccionamos \"Empezar a crear\" y luego \"create Action\"."
   ]
  },
  {
   "cell_type": "markdown",
   "metadata": {},
   "source": [
    "<img src=\"./img/Function2.png\" align=\"left\">"
   ]
  },
  {
   "cell_type": "markdown",
   "metadata": {},
   "source": [
    "> 4.2 Se incluira el siguiente SQL para la llamada de los datos de la base.\n",
    "\n",
    "> SELECT klm62568.tb_user_score.ID_CLIENTE, klm62568.tb_user_score.ID_GRUPO, klm62568.tb_user_score.SCORE, klm62568.tb_item_lookup.TITULO\n",
    "FROM klm62568.tb_user_score \n",
    "JOIN klm62568.tb_item_lookup \n",
    "on klm62568.tb_item_lookup.ID_GRUPO = klm62568.tb_user_score.ID_GRUPO \n",
    "where klm62568.tb_user_score.ID_CLIENTE=16591302;]"
   ]
  },
  {
   "cell_type": "markdown",
   "metadata": {},
   "source": [
    "> 4.3 Se realiza la funcion de invocación de la base y POC para asegurar funcionalidad"
   ]
  },
  {
   "cell_type": "markdown",
   "metadata": {},
   "source": [
    "<img src=\"./img/Function3.png\" align=\"left\">"
   ]
  },
  {
   "cell_type": "markdown",
   "metadata": {},
   "source": [
    "#### 5. Activamos Chatbot con Watson Assistan"
   ]
  },
  {
   "cell_type": "markdown",
   "metadata": {},
   "source": [
    "> 5.1 Ir a Watson Assistan desde la consola de IBM Cloud"
   ]
  },
  {
   "cell_type": "markdown",
   "metadata": {},
   "source": [
    "<img src=\"./img/WA1.png\" align=\"left\">"
   ]
  },
  {
   "cell_type": "markdown",
   "metadata": {},
   "source": [
    "> 5.2 Creamos un skill"
   ]
  },
  {
   "cell_type": "markdown",
   "metadata": {},
   "source": [
    "<img src=\"./img/WA2.png\" align=\"left\">"
   ]
  },
  {
   "cell_type": "markdown",
   "metadata": {},
   "source": [
    "> 5.3 Creamos un INTENT"
   ]
  },
  {
   "cell_type": "markdown",
   "metadata": {},
   "source": [
    "<img src=\"./img/WA3.png\" align=\"left\">"
   ]
  },
  {
   "cell_type": "markdown",
   "metadata": {},
   "source": [
    "> 5.4 Se activa \"\" desde Entities "
   ]
  },
  {
   "cell_type": "markdown",
   "metadata": {},
   "source": [
    "<img src=\"./img/WA4.png\" align=\"left\">"
   ]
  },
  {
   "cell_type": "markdown",
   "metadata": {},
   "source": [
    "> 5.5 Se ejecuta una POC para confirmar funcionamiento"
   ]
  },
  {
   "cell_type": "markdown",
   "metadata": {},
   "source": [
    "<img src=\"./img/WA5.png\" align=\"left\">"
   ]
  },
  {
   "cell_type": "markdown",
   "metadata": {},
   "source": [
    "> 5.6 Se procede a crear el dialogo desde Skill de Watson Assitant."
   ]
  },
  {
   "cell_type": "markdown",
   "metadata": {},
   "source": [
    "<img src=\"./img/Function4.png\" align=\"left\">"
   ]
  },
  {
   "cell_type": "markdown",
   "metadata": {},
   "source": [
    "> 5.6 Setiamos la variable de contexto:\n",
    "    creds_cf ={\n",
    "    \"user\":\"9b25938f-d611-4a96-92b5-7919275fd5b9\",\n",
    "    \"password\":\"t9eJFH8Fu3g5jV0jnV9y4pIsqIuG1SikwluUczHFQ1PiLgL1692F6zxWmIdadci3\"\n",
    "}"
   ]
  },
  {
   "cell_type": "code",
   "execution_count": null,
   "metadata": {},
   "outputs": [],
   "source": [
    "<img src=\"./img/Function5.png\" align=\"left\">"
   ]
  },
  {
   "cell_type": "code",
   "execution_count": null,
   "metadata": {},
   "outputs": [],
   "source": []
  },
  {
   "cell_type": "code",
   "execution_count": null,
   "metadata": {},
   "outputs": [],
   "source": []
  },
  {
   "cell_type": "code",
   "execution_count": null,
   "metadata": {},
   "outputs": [],
   "source": []
  }
 ],
 "metadata": {
  "kernelspec": {
   "display_name": "Python 3",
   "language": "python",
   "name": "python3"
  },
  "language_info": {
   "codemirror_mode": {
    "name": "ipython",
    "version": 3
   },
   "file_extension": ".py",
   "mimetype": "text/x-python",
   "name": "python",
   "nbconvert_exporter": "python",
   "pygments_lexer": "ipython3",
   "version": "3.6.8"
  }
 },
 "nbformat": 4,
 "nbformat_minor": 2
}
